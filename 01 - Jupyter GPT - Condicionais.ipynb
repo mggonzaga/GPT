{
 "cells": [
  {
   "cell_type": "code",
   "execution_count": 5,
   "metadata": {},
   "outputs": [
    {
     "name": "stdout",
     "output_type": "stream",
     "text": [
      "Olá! Bem-vindo ao Python.\n",
      "Você está aprendendo Python, versão 3.1.\n",
      "A soma de 10 e 20 é 30.\n"
     ]
    }
   ],
   "source": [
    "# Primeiro código em Python\n",
    "print(\"Olá! Bem-vindo ao Python.\")  \n",
    "\n",
    "# Variáveis e tipos básicos\n",
    "nome = \"Python\"\n",
    "versao = 3.10\n",
    "print(f\"Você está aprendendo {nome}, versão {versao}.\")\n",
    "\n",
    "# Um cálculo simples\n",
    "num1 = 10\n",
    "num2 = 20\n",
    "soma = num1 + num2\n",
    "print(f\"A soma de {num1} e {num2} é {soma}.\")\n"
   ]
  },
  {
   "cell_type": "code",
   "execution_count": 6,
   "metadata": {},
   "outputs": [
    {
     "name": "stdout",
     "output_type": "stream",
     "text": [
      "Nome: Ana\n",
      "Idade: 30 anos\n",
      "Altura: 1.75 m\n",
      "É estudante? True\n",
      "<class 'int'>\n",
      "<class 'float'>\n",
      "<class 'str'>\n",
      "<class 'bool'>\n"
     ]
    }
   ],
   "source": [
    "# Explorando tipos de dados\n",
    "idade = 30         # Inteiro\n",
    "altura = 1.75      # Ponto flutuante\n",
    "nome = \"Ana\"       # String\n",
    "estudante = True   # Booleano\n",
    "\n",
    "print(f\"Nome: {nome}\")\n",
    "print(f\"Idade: {idade} anos\")\n",
    "print(f\"Altura: {altura} m\")\n",
    "print(f\"É estudante? {estudante}\")\n",
    "\n",
    "# Descobrir o tipo de dado\n",
    "print(type(idade))       # Mostra o tipo de 'idade'\n",
    "print(type(altura))      # Mostra o tipo de 'altura'\n",
    "print(type (nome))       # Mostra o tipo de 'nome'\n",
    "print(type(estudante))   # Mostra o tipo de 'estudante'\n"
   ]
  },
  {
   "cell_type": "code",
   "execution_count": 7,
   "metadata": {},
   "outputs": [
    {
     "name": "stdout",
     "output_type": "stream",
     "text": [
      "Soma: 10 + 3 = 13\n",
      "Subtração: 10 - 3 = 7\n",
      "Multiplicação: 10 * 3 = 30\n",
      "Divisão: 10 / 3 = 3.33\n",
      "Divisão inteira: 10 // 3 = 3\n",
      "Resto da divisão: 10 % 3 = 1\n",
      "Potência: 10 ** 3 = 1000\n",
      "Python é incrível!\n",
      "PythonPythonPython\n"
     ]
    }
   ],
   "source": [
    "# Operações matemáticas\n",
    "a = 10\n",
    "b = 3\n",
    "\n",
    "print(f\"Soma: {a} + {b} = {a + b}\")\n",
    "print(f\"Subtração: {a} - {b} = {a - b}\")\n",
    "print(f\"Multiplicação: {a} * {b} = {a * b}\")\n",
    "print(f\"Divisão: {a} / {b} = {a / b:.2f}\")  # :.2f limita a 2 casas decimais\n",
    "print(f\"Divisão inteira: {a} // {b} = {a // b}\")\n",
    "print(f\"Resto da divisão: {a} % {b} = {a % b}\")\n",
    "print(f\"Potência: {a} ** {b} = {a ** b}\")\n",
    "\n",
    "# Operações com strings\n",
    "nome = \"Python\"\n",
    "print(nome + \" é incrível!\")  # Concatenar\n",
    "print(nome * 3)               # Repetir\n"
   ]
  },
  {
   "cell_type": "code",
   "execution_count": null,
   "metadata": {},
   "outputs": [],
   "source": [
    "# Verificar se um número é positivo, negativo ou zero\n",
    "numero = int(input(\"Digite um número: \"))  # Input do usuário\n",
    "\n",
    "if numero > 0:\n",
    "    print(\"O número é positivo.\")\n",
    "elif numero < 0:\n",
    "    print(\"O número é negativo.\")\n",
    "else:\n",
    "    print(\"O número é zero.\")\n"
   ]
  },
  {
   "cell_type": "code",
   "execution_count": 12,
   "metadata": {},
   "outputs": [
    {
     "name": "stdout",
     "output_type": "stream",
     "text": [
      "Você pode votar, mas não é obrigatório.\n"
     ]
    }
   ],
   "source": [
    "# Verificar se uma pessoa pode votar\n",
    "idade = int(input(\"Digite sua idade: \"))\n",
    "\n",
    "if idade >= 18 and idade < 70:\n",
    "    print(\"Você é obrigado a votar.\")\n",
    "elif idade >= 16 or idade >= 70:\n",
    "    print(\"Você pode votar, mas não é obrigatório.\")\n",
    "else:\n",
    "    print(\"Você ainda não pode votar.\")"
   ]
  },
  {
   "cell_type": "markdown",
   "metadata": {},
   "source": [
    "Tarefa prática:\n",
    "Teste os exemplos acima.\n",
    "Modifique as condições para explorar diferentes cenários.\n",
    "\n",
    "Crie um programa que avalie o desempenho de um aluno:\n",
    "\n",
    "Nota acima de 7: \"Aprovado\".\n",
    "\n",
    "Entre 5 e 7: \"Recuperação\".\n",
    "\n",
    "Abaixo de 5: \"Reprovado\"."
   ]
  },
  {
   "cell_type": "code",
   "execution_count": 20,
   "metadata": {},
   "outputs": [
    {
     "name": "stdout",
     "output_type": "stream",
     "text": [
      "Voce foi aprovado !\n"
     ]
    }
   ],
   "source": [
    "nota_final = int(input(\"Qual foi a sua nota final no exame?\"))\n",
    "\n",
    "if nota_final > 7:\n",
    "    print(\"Voce foi aprovado !\")\n",
    "elif nota_final >= 5:\n",
    "    print(\"Voce esta em recuperação, ultima chance de passar de ano !\")\n",
    "else:\n",
    "    print(\"Infelizmente, voce foi reprovado !\")\n",
    "    \n"
   ]
  },
  {
   "cell_type": "markdown",
   "metadata": {},
   "source": [
    "Exercício 1: Calculadora simples\n",
    "\n",
    "Crie um programa que pergunte ao usuário dois números e uma operação matemática (+, -, *, /) \n",
    "e exiba o resultado. Use condicionais para validar a operação e evitar divisão por zero.\n",
    "\n",
    "Exemplo de entrada:\n",
    "\n",
    "Digite o primeiro número: 10\n",
    "Digite o segundo número: 0\n",
    "Escolha uma operação (+, -, *, /): /\n",
    "\n",
    "Exemplo de saída:\n",
    "\n",
    "Erro: divisão por zero!"
   ]
  },
  {
   "cell_type": "code",
   "execution_count": 69,
   "metadata": {},
   "outputs": [
    {
     "name": "stdout",
     "output_type": "stream",
     "text": [
      "Bem-vindo à Calculadora!\n",
      "Operações disponíveis: + (soma), - (subtração), * (multiplicação), / (divisão)\n",
      "O resultado da sua operação é 40.00\n"
     ]
    }
   ],
   "source": [
    "print(\"Bem-vindo à Calculadora!\")\n",
    "print(\"Operações disponíveis: + (soma), - (subtração), * (multiplicação), / (divisão)\")\n",
    "\n",
    "prim_num = float(input(\"Digite o primeiro numero:  =>\"))\n",
    "secon_num = float(input(\"Digite o segundo numero:  =>\"))\n",
    "oper = input(\"Escolha a sua operacao: (+, -, /, *)\")\n",
    "\n",
    "if oper == \"/\":\n",
    "    if secon_num == 0:\n",
    "        print (\"Erro: Divisao por zero\")\n",
    "    else:\n",
    "        resul = float(prim_num / secon_num)\n",
    "        print(f\"O resultado da sua operação é {resul:.2f}\")\n",
    "elif oper == \"+\":\n",
    "    resul = float(prim_num + secon_num)\n",
    "    print(f\"O resultado da sua operação é {resul:.2f}\")\n",
    "elif oper == \"-\":\n",
    "    resul = float(prim_num - secon_num)\n",
    "    print(f\"O resultado da sua operação é {resul:.2f}\")\n",
    "elif oper == \"*\":\n",
    "    resul = float(prim_num * secon_num)\n",
    "    print(f\"O resultado da sua operação é {resul:.2f}\")\n",
    "else:\n",
    "    print(\"Erro: Operação inválida. Use apenas (+, -, /, *).\")\n"
   ]
  },
  {
   "cell_type": "markdown",
   "metadata": {},
   "source": [
    "Pontos Positivos:\n",
    "\n",
    "Lógica correta para evitar divisão por zero: \n",
    "\n",
    "Você verificou secon_num == 0 and oper == \"/\" antes de realizar a operação. Perfeito! 👏\n",
    "\n",
    "Uso de condicionais: Bem estruturado com if-elif-else.\n",
    "\n",
    "Interatividade: Inputs claros para o usuário.\n",
    "\n",
    "\n",
    "Melhorias Sugeridas:\n",
    "\n",
    "Evitar repetir código: \n",
    "\n",
    "Você poderia calcular o resultado diretamente dentro de cada bloco de condição, sem a necessidade de atribuir resul novamente no else.\n",
    "\n",
    "Validação de operações inválidas: Se o usuário digitar uma operação que não é +, -, / ou *, seria interessante exibir uma mensagem de erro.\n",
    "\n",
    "Cálculo de divisão como float: Usar divisão decimal para resultados mais precisos, em vez de converter para int."
   ]
  },
  {
   "cell_type": "code",
   "execution_count": 63,
   "metadata": {},
   "outputs": [
    {
     "name": "stdout",
     "output_type": "stream",
     "text": [
      "Calculadora\n",
      "O resultado da sua operação é 2.00\n"
     ]
    }
   ],
   "source": [
    "print(\"Calculadora\")\n",
    "prim_num = float(input(\"Digite o primeiro número: => \"))\n",
    "secon_num = float(input(\"Digite o segundo número: => \"))\n",
    "oper = input(\"Escolha a sua operação: (+, -, /, *) \")\n",
    "\n",
    "if oper == \"/\":\n",
    "    if secon_num == 0:\n",
    "        print(\"Erro: Divisão por zero.\")\n",
    "    else:\n",
    "        resul = prim_num / secon_num\n",
    "        print(f\"O resultado da sua operação é {resul:.2f}\")\n",
    "elif oper == \"+\":\n",
    "    resul = prim_num + secon_num\n",
    "    print(f\"O resultado da sua operação é {resul}\")\n",
    "elif oper == \"-\":\n",
    "    resul = prim_num - secon_num\n",
    "    print(f\"O resultado da sua operação é {resul}\")\n",
    "elif oper == \"*\":\n",
    "    resul = prim_num * secon_num\n",
    "    print(f\"O resultado da sua operação é {resul}\")\n",
    "else:\n",
    "    print(\"Erro: Operação inválida. Use apenas (+, -, /, *).\")\n",
    "\n"
   ]
  },
  {
   "cell_type": "markdown",
   "metadata": {},
   "source": [
    "Exercício 2: Classificação de IMC\n",
    "Crie um programa que calcule o Índice de Massa Corporal (IMC) e classifique o usuário:\n",
    "\n",
    "IMC abaixo de 18.5: \"Abaixo do peso\".\n",
    "\n",
    "IMC entre 18.5 e 24.9: \"Peso normal\".\n",
    "\n",
    "IMC entre 25 e 29.9: \"Sobrepeso\".\n",
    "\n",
    "IMC acima de 30: \"Obesidade\".\n",
    "\n",
    "\n",
    "Fórmula do IMC:\n",
    "\n",
    "IMC = peso / (altura * altura)\n",
    "\n",
    "Dica: Peça peso em kg e altura em metros."
   ]
  },
  {
   "cell_type": "code",
   "execution_count": 22,
   "metadata": {},
   "outputs": [
    {
     "name": "stdout",
     "output_type": "stream",
     "text": [
      "Programa para calculo de IMC\n",
      "Indice de Massa Corporal\n",
      "\n",
      "Preciso coletar alguns dados:\n",
      "O Seu peso eh 88.5 kgs, e a sua altura eh 1.73 m\n",
      "\n",
      "O seu IMC eh 29.57:\n",
      "Voce esta com SOBREPESO !\n"
     ]
    }
   ],
   "source": [
    "print (\"Programa para calculo de IMC\")\n",
    "print (\"Indice de Massa Corporal\")\n",
    "print()\n",
    "print (\"Preciso coletar alguns dados:\")\n",
    "peso = float(input(\"Qual o seu peso atual ?\"))\n",
    "altura = float(input(\"Qual a sua altura ?\"))\n",
    "print (f\"O Seu peso eh {peso} kgs, e a sua altura eh {altura} m\")\n",
    "print ()\n",
    "imc = peso / (altura * altura)\n",
    "print(f\"O seu IMC eh {imc:.2f}:\")\n",
    "if imc < 18.5:\n",
    "    print(\"Voce esta abaixo do peso!\")\n",
    "elif imc <= 24.9:\n",
    "    print (\"Voce esta com PESO NORMAL !!\")\n",
    "elif imc <= 29.9:\n",
    "    print (\"Voce esta com SOBREPESO !\") \n",
    "else:\n",
    "    print (\"Voce esta com OBESIDADE!!\")\n",
    "\n"
   ]
  },
  {
   "cell_type": "markdown",
   "metadata": {},
   "source": [
    "Exercício 3: Verificador de números pares e ímpares\n",
    "\n",
    "Peça ao usuário para inserir um número e diga se ele é par ou ímpar.\n",
    "\n",
    "Dica: Use o operador % (resto da divisão)."
   ]
  },
  {
   "cell_type": "code",
   "execution_count": 39,
   "metadata": {},
   "outputs": [
    {
     "name": "stdout",
     "output_type": "stream",
     "text": [
      "Voce esta em um programa para descobrir numeros PARES E IMPARES\n",
      "\n",
      "Erro: Por favor, insira um número inteiro válido.\n"
     ]
    }
   ],
   "source": [
    "print (\"Voce esta em um programa para descobrir numeros PARES E IMPARES\")\n",
    "print()\n",
    "\n",
    "try:\n",
    "    num = int(input(\"Insira um numero:\"))\n",
    "\n",
    "    if num % 2 == 0:\n",
    "        print (f\"O Numero {num} é PAR !\")\n",
    "    else:\n",
    "        print (f\"O Numero {num} é IMPAR !!\")\n",
    "except ValueError:\n",
    "    print(\"Erro: Por favor, insira um número inteiro válido.\")"
   ]
  },
  {
   "cell_type": "markdown",
   "metadata": {},
   "source": [
    "Exercício 4: Avaliação de velocidade\n",
    "\n",
    "Crie um programa que verifique se um motorista foi multado:\n",
    "\n",
    "Velocidade até 80 km/h: \"Velocidade permitida\".\n",
    "\n",
    "Velocidade entre 81 e 100 km/h: \"Multa leve\".\n",
    "\n",
    "Velocidade acima de 100 km/h: \"Multa grave\"."
   ]
  },
  {
   "cell_type": "code",
   "execution_count": 46,
   "metadata": {},
   "outputs": [
    {
     "name": "stdout",
     "output_type": "stream",
     "text": [
      "Programa para avaliacao de velocidade\n",
      "Gravidade das Multas\n",
      "A sua velocidade registrada é de 79 km/h\n",
      "\n",
      "Sua velocidade é de 79 km/h, Velocidade PERMITIDA\n"
     ]
    }
   ],
   "source": [
    "print (\"Programa para avaliacao de velocidade\")\n",
    "print (\"Gravidade das Multas\")\n",
    "\n",
    "veloc = int(input(\"Favor informar a velocidade registrada ?\"))\n",
    "print (f\"A sua velocidade registrada é de {veloc} km/h\")\n",
    "print ()\n",
    "\n",
    "if veloc <= 80:\n",
    "    print (f\"Sua velocidade é de {veloc} km/h, Velocidade PERMITIDA\")\n",
    "elif veloc <= 100:\n",
    "    print (f\"Sua velocidade é de {veloc} km/h, Voce foi autuado com MULTA LEVE !\")\n",
    "else:\n",
    "    print (f\"Sua velocidade é de {veloc} km/h, Voce foi autuado com MULTA GRAVE !!\")\n"
   ]
  },
  {
   "cell_type": "markdown",
   "metadata": {},
   "source": [
    "Exercício 5: Jogo de adivinhação\n",
    "\n",
    "O programa escolhe um número aleatório entre 1 e 10 (use a biblioteca random) \n",
    "e o usuário deve adivinhar. Use condicionais para:\n",
    "\n",
    "Informar se o número está correto.\n",
    "\n",
    "Dizer se a tentativa foi maior ou menor que o número sorteado.\n",
    "\n",
    "Dica:\n",
    "\n",
    "import random\n",
    "numero_secreto = random.randint(1, 10)"
   ]
  },
  {
   "cell_type": "code",
   "execution_count": 79,
   "metadata": {},
   "outputs": [
    {
     "name": "stdout",
     "output_type": "stream",
     "text": [
      "Jogo de Adivinhação\n",
      "Tente descobrir o numero que vou escolher\n",
      "\n",
      "Eu escolhi o numero 7, meu numero eh menor, voce digitou 8 !\n",
      "7\n",
      "8\n"
     ]
    }
   ],
   "source": [
    "import random\n",
    "num_sec = random.randint(1,10)\n",
    "\n",
    "print (\"Jogo de Adivinhação\")\n",
    "print (\"Tente descobrir o numero que vou escolher\")\n",
    "print ()\n",
    "\n",
    "num_user = int(input(\"Favor digitar um numero de 1 a 10: => \"))\n",
    "\n",
    "if num_sec == num_user:\n",
    "    print (\"PARABENS !! VC ACERTOU O NUMERO\")\n",
    "elif num_sec < num_user:\n",
    "    print(f\"Eu escolhi o numero {num_sec}, meu numero eh menor, voce digitou {num_user} !\")\n",
    "else:\n",
    "    print (f\"Eu escolhi o numero {num_sec}, meu numero eh maior, voce digitou {num_user} !\")\n"
   ]
  },
  {
   "cell_type": "code",
   "execution_count": 83,
   "metadata": {},
   "outputs": [
    {
     "name": "stdout",
     "output_type": "stream",
     "text": [
      "Bem-vindo ao Jogo de Adivinhação!\n",
      "Eu escolhi um número entre 1 e 10. Tente adivinhar!\n",
      "\n",
      "Meu número é MENOR. Tente novamente!\n",
      "Meu número é MENOR. Tente novamente!\n",
      "🎉 PARABÉNS! Você acertou o número!\n",
      "Meu número é MAIOR. Tente novamente!\n",
      "Meu número é MAIOR. Tente novamente!\n",
      "Meu número é MAIOR. Tente novamente!\n",
      "🎉 PARABÉNS! Você acertou o número!\n"
     ]
    },
    {
     "ename": "KeyboardInterrupt",
     "evalue": "Interrupted by user",
     "output_type": "error",
     "traceback": [
      "\u001b[1;31m---------------------------------------------------------------------------\u001b[0m",
      "\u001b[1;31mKeyboardInterrupt\u001b[0m                         Traceback (most recent call last)",
      "Cell \u001b[1;32mIn[83], line 13\u001b[0m\n\u001b[0;32m     10\u001b[0m \u001b[38;5;28;01mwhile\u001b[39;00m \u001b[38;5;28;01mTrue\u001b[39;00m:\n\u001b[0;32m     11\u001b[0m     \u001b[38;5;28;01mtry\u001b[39;00m:\n\u001b[0;32m     12\u001b[0m         \u001b[38;5;66;03m# Entrada do usuário\u001b[39;00m\n\u001b[1;32m---> 13\u001b[0m         num_user \u001b[38;5;241m=\u001b[39m \u001b[38;5;28mint\u001b[39m(\u001b[38;5;28minput\u001b[39m(\u001b[38;5;124m\"\u001b[39m\u001b[38;5;124mDigite um número de 1 a 10: => \u001b[39m\u001b[38;5;124m\"\u001b[39m))\n\u001b[0;32m     15\u001b[0m         \u001b[38;5;66;03m# Verificação de intervalo\u001b[39;00m\n\u001b[0;32m     16\u001b[0m         \u001b[38;5;28;01mif\u001b[39;00m num_user \u001b[38;5;241m<\u001b[39m \u001b[38;5;241m1\u001b[39m \u001b[38;5;129;01mor\u001b[39;00m num_user \u001b[38;5;241m>\u001b[39m \u001b[38;5;241m10\u001b[39m:\n",
      "File \u001b[1;32mc:\\Users\\mauri\\anaconda3\\Lib\\site-packages\\ipykernel\\kernelbase.py:1175\u001b[0m, in \u001b[0;36mKernel.raw_input\u001b[1;34m(self, prompt)\u001b[0m\n\u001b[0;32m   1171\u001b[0m \u001b[38;5;28;01mif\u001b[39;00m \u001b[38;5;129;01mnot\u001b[39;00m \u001b[38;5;28mself\u001b[39m\u001b[38;5;241m.\u001b[39m_allow_stdin:\n\u001b[0;32m   1172\u001b[0m     \u001b[38;5;28;01mraise\u001b[39;00m StdinNotImplementedError(\n\u001b[0;32m   1173\u001b[0m         \u001b[38;5;124m\"\u001b[39m\u001b[38;5;124mraw_input was called, but this frontend does not support input requests.\u001b[39m\u001b[38;5;124m\"\u001b[39m\n\u001b[0;32m   1174\u001b[0m     )\n\u001b[1;32m-> 1175\u001b[0m \u001b[38;5;28;01mreturn\u001b[39;00m \u001b[38;5;28mself\u001b[39m\u001b[38;5;241m.\u001b[39m_input_request(\n\u001b[0;32m   1176\u001b[0m     \u001b[38;5;28mstr\u001b[39m(prompt),\n\u001b[0;32m   1177\u001b[0m     \u001b[38;5;28mself\u001b[39m\u001b[38;5;241m.\u001b[39m_parent_ident[\u001b[38;5;124m\"\u001b[39m\u001b[38;5;124mshell\u001b[39m\u001b[38;5;124m\"\u001b[39m],\n\u001b[0;32m   1178\u001b[0m     \u001b[38;5;28mself\u001b[39m\u001b[38;5;241m.\u001b[39mget_parent(\u001b[38;5;124m\"\u001b[39m\u001b[38;5;124mshell\u001b[39m\u001b[38;5;124m\"\u001b[39m),\n\u001b[0;32m   1179\u001b[0m     password\u001b[38;5;241m=\u001b[39m\u001b[38;5;28;01mFalse\u001b[39;00m,\n\u001b[0;32m   1180\u001b[0m )\n",
      "File \u001b[1;32mc:\\Users\\mauri\\anaconda3\\Lib\\site-packages\\ipykernel\\kernelbase.py:1217\u001b[0m, in \u001b[0;36mKernel._input_request\u001b[1;34m(self, prompt, ident, parent, password)\u001b[0m\n\u001b[0;32m   1214\u001b[0m             \u001b[38;5;28;01mbreak\u001b[39;00m\n\u001b[0;32m   1215\u001b[0m \u001b[38;5;28;01mexcept\u001b[39;00m \u001b[38;5;167;01mKeyboardInterrupt\u001b[39;00m:\n\u001b[0;32m   1216\u001b[0m     \u001b[38;5;66;03m# re-raise KeyboardInterrupt, to truncate traceback\u001b[39;00m\n\u001b[1;32m-> 1217\u001b[0m     \u001b[38;5;28;01mraise\u001b[39;00m \u001b[38;5;167;01mKeyboardInterrupt\u001b[39;00m(\u001b[38;5;124m\"\u001b[39m\u001b[38;5;124mInterrupted by user\u001b[39m\u001b[38;5;124m\"\u001b[39m) \u001b[38;5;28;01mfrom\u001b[39;00m \u001b[38;5;28;01mNone\u001b[39;00m\n\u001b[0;32m   1218\u001b[0m \u001b[38;5;28;01mexcept\u001b[39;00m \u001b[38;5;167;01mException\u001b[39;00m:\n\u001b[0;32m   1219\u001b[0m     \u001b[38;5;28mself\u001b[39m\u001b[38;5;241m.\u001b[39mlog\u001b[38;5;241m.\u001b[39mwarning(\u001b[38;5;124m\"\u001b[39m\u001b[38;5;124mInvalid Message:\u001b[39m\u001b[38;5;124m\"\u001b[39m, exc_info\u001b[38;5;241m=\u001b[39m\u001b[38;5;28;01mTrue\u001b[39;00m)\n",
      "\u001b[1;31mKeyboardInterrupt\u001b[0m: Interrupted by user"
     ]
    }
   ],
   "source": [
    "import random\n",
    "\n",
    "print(\"Bem-vindo ao Jogo de Adivinhação!\")\n",
    "print(\"Eu escolhi um número entre 1 e 10. Tente adivinhar!\")\n",
    "print()\n",
    "\n",
    "# Geração do número secreto\n",
    "num_sec = random.randint(1, 10)\n",
    "\n",
    "while True:\n",
    "    try:\n",
    "        # Entrada do usuário\n",
    "        num_user = int(input(\"Digite um número de 1 a 10: => \"))\n",
    "        \n",
    "        # Verificação de intervalo\n",
    "        if num_user < 1 or num_user > 10:\n",
    "            print(\"Por favor, escolha um número entre 1 e 10.\")\n",
    "            continue\n",
    "\n",
    "        # Comparação do número\n",
    "        if num_sec == num_user:\n",
    "            print(\"🎉 PARABÉNS! Você acertou o número!\")\n",
    "            break\n",
    "        elif num_user > num_sec:\n",
    "            print(\"Meu número é MENOR. Tente novamente!\")\n",
    "        else:\n",
    "            print(\"Meu número é MAIOR. Tente novamente!\")\n",
    "    except ValueError:\n",
    "        print(\"Erro: Digite um número inteiro válido.\")\n"
   ]
  }
 ],
 "metadata": {
  "language_info": {
   "name": "python"
  }
 },
 "nbformat": 4,
 "nbformat_minor": 2
}
