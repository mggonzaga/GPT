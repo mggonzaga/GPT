{
 "cells": [
  {
   "cell_type": "markdown",
   "metadata": {},
   "source": [
    "Etapa 1: Introdução ao Loop for\n",
    "Um for loop percorre uma sequência de itens. Vamos começar com um exemplo simples:\n",
    "\n",
    "Explicação\n",
    "\n",
    "A função range(1, 6) gera uma sequência de números de 1 a 5.\n",
    "\n",
    "O loop executa o bloco de código para cada valor de i.\n",
    "\n"
   ]
  },
  {
   "cell_type": "code",
   "execution_count": 3,
   "metadata": {},
   "outputs": [
    {
     "name": "stdout",
     "output_type": "stream",
     "text": [
      "Contagem de 1 a 5:\n",
      "1\n",
      "2\n",
      "3\n",
      "4\n",
      "5\n",
      "6\n",
      "7\n",
      "8\n",
      "9\n"
     ]
    }
   ],
   "source": [
    "print(\"Contagem de 1 a 5:\")\n",
    "for i in range(1, 10):  # range(1, 6) gera números de 1 a 5\n",
    "    print(i)\n"
   ]
  },
  {
   "cell_type": "markdown",
   "metadata": {},
   "source": [
    "Etapa 2: Introdução ao Loop while\n",
    "Um while loop executa o código enquanto uma condição é verdadeira."
   ]
  },
  {
   "cell_type": "code",
   "execution_count": 8,
   "metadata": {},
   "outputs": [
    {
     "name": "stdout",
     "output_type": "stream",
     "text": [
      "Contagem regressiva:\n",
      "5\n",
      "4\n",
      "3\n",
      "2\n",
      "1\n",
      "Fim da contagem!\n"
     ]
    }
   ],
   "source": [
    "print(\"Contagem regressiva:\")\n",
    "contador = 5\n",
    "while contador > 0:\n",
    "    print(contador)\n",
    "    contador -= 1  # Decrementa o valor\n",
    "print(\"Fim da contagem!\")\n"
   ]
  },
  {
   "cell_type": "markdown",
   "metadata": {},
   "source": [
    "Exercício com for:\n",
    "\n",
    "Escreva um programa que exibe todos os números pares de 1 a 20."
   ]
  },
  {
   "cell_type": "code",
   "execution_count": 45,
   "metadata": {},
   "outputs": [
    {
     "name": "stdout",
     "output_type": "stream",
     "text": [
      "Contagem de numeros pares:\n",
      "Exercicio 01 - loops\n",
      "2\n",
      "4\n",
      "6\n",
      "8\n",
      "10\n",
      "12\n",
      "14\n",
      "16\n",
      "18\n",
      "20\n",
      "Total de numeros pares exibidos: 10\n",
      "Fim !!\n"
     ]
    }
   ],
   "source": [
    "print(\"Contagem de numeros pares:\")\n",
    "print (\"Exercicio 01 - loops\")\n",
    "cont = 0\n",
    "\n",
    "for n in range (1,21):\n",
    "    if n % 2 == 0:\n",
    "        print (n)\n",
    "        cont += 1\n",
    "print (f\"Total de numeros pares exibidos: {cont}\")        \n",
    "print (\"Fim !!\")"
   ]
  },
  {
   "cell_type": "markdown",
   "metadata": {},
   "source": [
    "Exercício com while:\n",
    "\n",
    "Crie um programa que pede números ao usuário até ele digitar 0. No final, exiba a soma de todos os números digitados."
   ]
  },
  {
   "cell_type": "code",
   "execution_count": 1,
   "metadata": {},
   "outputs": [
    {
     "name": "stdout",
     "output_type": "stream",
     "text": [
      "Programa para somar números!\n",
      "Digite números para somar. Digite 0 para sair.\n",
      "\n",
      "A soma total dos números digitados é: 2381.00\n"
     ]
    }
   ],
   "source": [
    "print(\"Programa para somar números!\")\n",
    "print(\"Digite números para somar. Digite 0 para sair.\")\n",
    "print()\n",
    "\n",
    "soma = 0  # Inicializa a variável para acumular a soma\n",
    "\n",
    "while True:\n",
    "    try:\n",
    "        num = float(input(\"Digite um número: \"))  # Lê o número digitado\n",
    "        if num == 0:  # Verifica se o número é 0 para sair\n",
    "            break\n",
    "        soma += num  # Adiciona o número à soma\n",
    "    except ValueError:\n",
    "        print(\"Por favor, digite um número válido.\")\n",
    "        continue\n",
    "\n",
    "print(f\"A soma total dos números digitados é: {soma:.2f}\")\n"
   ]
  },
  {
   "cell_type": "markdown",
   "metadata": {},
   "source": [
    "Tabuada\n",
    "Escreva um programa que exiba a tabuada de um número digitado pelo usuário (de 1 a 10).\n",
    "\n",
    "Exemplo de saída:\n",
    "\n",
    "Tabuada do 5:\n",
    "\n",
    "5 x 1 = 5\n",
    "\n",
    "5 x 2 = 10\n",
    "\n",
    "...\n",
    "\n",
    "5 x 10 = 50"
   ]
  },
  {
   "cell_type": "code",
   "execution_count": 10,
   "metadata": {},
   "outputs": [
    {
     "name": "stdout",
     "output_type": "stream",
     "text": [
      "Programa de taboada\n",
      "------------------\n",
      "4 x 1 = 4\n",
      "4 x 2 = 8\n",
      "4 x 3 = 12\n",
      "4 x 4 = 16\n",
      "4 x 5 = 20\n",
      "4 x 6 = 24\n",
      "4 x 7 = 28\n",
      "4 x 8 = 32\n",
      "4 x 9 = 36\n",
      "4 x 10 = 40\n"
     ]
    }
   ],
   "source": [
    "print (\"Programa de taboada\")\n",
    "print (\"------------------\")\n",
    "num_user = int(input(\"Favor Digitar um numero de 1 a 10: => \"))\n",
    "\n",
    "for n in range (1,11):\n",
    "    print(f\"{num_user} x {n} = {num_user * n}\")\n"
   ]
  },
  {
   "cell_type": "markdown",
   "metadata": {},
   "source": [
    "Números Ímpares\n",
    "\n",
    "Mostre todos os números ímpares de 1 a 50.\n",
    "\n",
    "Exemplo de saída:\n",
    "\n",
    "Copiar código\n",
    "\n",
    "Números ímpares de 1 a 50:\n",
    "\n",
    "1, 3, 5, 7, ..., 49"
   ]
  },
  {
   "cell_type": "code",
   "execution_count": 11,
   "metadata": {},
   "outputs": [
    {
     "name": "stdout",
     "output_type": "stream",
     "text": [
      "Numeros Impares\n",
      "1\n",
      "3\n",
      "5\n",
      "7\n"
     ]
    }
   ],
   "source": [
    "print(\"Numeros Impares\")\n",
    "user = int(input(\"Digite um numero: \"))\n",
    "for n in range(0,user):\n",
    "    if n % 2 != 0:\n",
    "        print (n)"
   ]
  },
  {
   "cell_type": "markdown",
   "metadata": {},
   "source": [
    "Soma dos Números de uma Lista\n",
    "\n",
    "Crie uma lista de números e use um loop for para calcular e exibir a soma de todos os elementos.\n",
    "\n",
    "Dica:\n",
    "\n",
    "numeros = [1, 2, 3, 4, 5]"
   ]
  },
  {
   "cell_type": "code",
   "execution_count": null,
   "metadata": {},
   "outputs": [],
   "source": []
  }
 ],
 "metadata": {
  "kernelspec": {
   "display_name": "base",
   "language": "python",
   "name": "python3"
  },
  "language_info": {
   "codemirror_mode": {
    "name": "ipython",
    "version": 3
   },
   "file_extension": ".py",
   "mimetype": "text/x-python",
   "name": "python",
   "nbconvert_exporter": "python",
   "pygments_lexer": "ipython3",
   "version": "3.11.3"
  }
 },
 "nbformat": 4,
 "nbformat_minor": 2
}
